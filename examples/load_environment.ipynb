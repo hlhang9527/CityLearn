{
 "cells": [
  {
   "attachments": {},
   "cell_type": "markdown",
   "metadata": {},
   "source": [
    "<a href=\"https://colab.research.google.com/github/intelligent-environments-lab/CityLearn/blob/master/examples/load_environment.ipynb\" target=\"_parent\"><img src=\"https://colab.research.google.com/assets/colab-badge.svg\" alt=\"Open In Colab\"/></a>"
   ]
  },
  {
   "attachments": {},
   "cell_type": "markdown",
   "metadata": {},
   "source": [
    "# How to Load an Environment\n",
    "\n",
    "Install the latest CityLearn version from PyPi with the :code:`pip` command:"
   ]
  },
  {
   "cell_type": "code",
   "execution_count": null,
   "metadata": {},
   "outputs": [],
   "source": [
    "!pip install CityLearn"
   ]
  },
  {
   "attachments": {},
   "cell_type": "markdown",
   "metadata": {},
   "source": [
    "## Load an Environment Using Named Dataset\n",
    "\n",
    "CityLearn provides some data files that are contained in named datasets including those that have been used in [The CityLearn Challenge](https://intelligent-environments-lab.github.io/CityLearn/citylearn_challenge/index.html). These datasets names can be used in place of schema filepaths or `dict` objects to initialize an environment. To get the dataset names run:"
   ]
  },
  {
   "cell_type": "code",
   "execution_count": 2,
   "metadata": {},
   "outputs": [
    {
     "name": "stdout",
     "output_type": "stream",
     "text": [
      "['baeda_3dem', 'citylearn_challenge_2020_climate_zone_1', 'citylearn_challenge_2020_climate_zone_2', 'citylearn_challenge_2020_climate_zone_3', 'citylearn_challenge_2020_climate_zone_4', 'citylearn_challenge_2021', 'citylearn_challenge_2022_phase_1', 'citylearn_challenge_2022_phase_2', 'citylearn_challenge_2022_phase_3', 'citylearn_challenge_2022_phase_all']\n"
     ]
    }
   ],
   "source": [
    "from citylearn.data import DataSet\n",
    "\n",
    "dataset_names = DataSet.get_names()\n",
    "print(dataset_names)"
   ]
  },
  {
   "attachments": {},
   "cell_type": "markdown",
   "metadata": {},
   "source": [
    "Initialize the environment using any of the valid names:"
   ]
  },
  {
   "cell_type": "code",
   "execution_count": 3,
   "metadata": {},
   "outputs": [],
   "source": [
    "from citylearn.citylearn import CityLearnEnv\n",
    "    \n",
    "env = CityLearnEnv('citylearn_challenge_2020_climate_zone_1')"
   ]
  },
  {
   "attachments": {},
   "cell_type": "markdown",
   "metadata": {},
   "source": [
    "The dataset can also be download to a path of choice for inspection. The following code copies a dataset to the current directory:"
   ]
  },
  {
   "cell_type": "code",
   "execution_count": 4,
   "metadata": {},
   "outputs": [],
   "source": [
    "from citylearn.data import DataSet\n",
    "\n",
    "DataSet.copy('citylearn_challenge_2020_climate_zone_1')"
   ]
  },
  {
   "attachments": {},
   "cell_type": "markdown",
   "metadata": {},
   "source": [
    "## Load an Environment Using Schema Filepath\n",
    "\n",
    "The [Schema](https://intelligent-environments-lab.github.io/CityLearn/overview/schema.html) filepath can be use to initialize an environment:"
   ]
  },
  {
   "cell_type": "code",
   "execution_count": 5,
   "metadata": {},
   "outputs": [],
   "source": [
    "from citylearn.citylearn import CityLearnEnv\n",
    "\n",
    "schema_filepath = 'citylearn_challenge_2020_climate_zone_1/schema.json'\n",
    "env = CityLearnEnv(schema_filepath)"
   ]
  },
  {
   "cell_type": "markdown",
   "metadata": {},
   "source": [
    "This approach is best if using a custom [Dataset](https://intelligent-environments-lab.github.io/CityLearn/overview/dataset.html)."
   ]
  },
  {
   "cell_type": "markdown",
   "metadata": {},
   "source": [
    "## Load an Environment Using Schema Dictionary Object\n",
    "\n",
    "Alternatively, the schema can be supplied as a `dict` object. This approach can be used to edit the schema parameter values before constructing the environment. With this approach, the `root_directory` key-value must be explicitly set: See example below:"
   ]
  },
  {
   "cell_type": "code",
   "execution_count": 2,
   "metadata": {},
   "outputs": [
    {
     "ename": "ModuleNotFoundError",
     "evalue": "No module named 'citylearn'",
     "output_type": "error",
     "traceback": [
      "\u001b[0;31m---------------------------------------------------------------------------\u001b[0m",
      "\u001b[0;31mModuleNotFoundError\u001b[0m                       Traceback (most recent call last)",
      "Cell \u001b[0;32mIn[2], line 1\u001b[0m\n\u001b[0;32m----> 1\u001b[0m \u001b[38;5;28;01mfrom\u001b[39;00m \u001b[38;5;21;01mcitylearn\u001b[39;00m\u001b[38;5;21;01m.\u001b[39;00m\u001b[38;5;21;01mcitylearn\u001b[39;00m \u001b[38;5;28;01mimport\u001b[39;00m CityLearnEnv\n\u001b[1;32m      2\u001b[0m \u001b[38;5;28;01mfrom\u001b[39;00m \u001b[38;5;21;01mcitylearn\u001b[39;00m\u001b[38;5;21;01m.\u001b[39;00m\u001b[38;5;21;01mutilities\u001b[39;00m \u001b[38;5;28;01mimport\u001b[39;00m read_json\n\u001b[1;32m      4\u001b[0m schema_filepath \u001b[38;5;241m=\u001b[39m \u001b[38;5;124m'\u001b[39m\u001b[38;5;124mcitylearn_challenge_2020_climate_zone_1/schema.json\u001b[39m\u001b[38;5;124m'\u001b[39m\n",
      "\u001b[0;31mModuleNotFoundError\u001b[0m: No module named 'citylearn'"
     ]
    }
   ],
   "source": [
    "from citylearn.citylearn import CityLearnEnv\n",
    "from citylearn.utilities import read_json\n",
    "\n",
    "schema_filepath = 'citylearn_challenge_2020_climate_zone_1/schema.json'\n",
    "schema = read_json(schema_filepath)\n",
    "schema['root_directory'] = 'citylearn_challenge_2020_climate_zone_1'\n",
    "print(schema)\n",
    "# env = CityLearnEnv(schema)"
   ]
  },
  {
   "cell_type": "markdown",
   "metadata": {},
   "source": [
    "Some schema parameters can also be overriden by parsing them directly to the `citylearn.citylearn.CityLearnEnv` constructor:"
   ]
  },
  {
   "cell_type": "code",
   "execution_count": 7,
   "metadata": {},
   "outputs": [],
   "source": [
    "from citylearn.citylearn import CityLearnEnv\n",
    "from citylearn.utilities import read_json\n",
    "\n",
    "schema_filepath = 'citylearn_challenge_2020_climate_zone_1/schema.json'\n",
    "schema = read_json(schema_filepath)\n",
    "env = CityLearnEnv(\n",
    "    schema,\n",
    "    root_directory='citylearn_challenge_2020_climate_zone_1',\n",
    "    central_agent=True,\n",
    "    simulation_start_time_step=10\n",
    ")"
   ]
  }
 ],
 "metadata": {
  "kernelspec": {
   "display_name": "test_env",
   "language": "python",
   "name": "python3"
  },
  "language_info": {
   "codemirror_mode": {
    "name": "ipython",
    "version": 3
   },
   "file_extension": ".py",
   "mimetype": "text/x-python",
   "name": "python",
   "nbconvert_exporter": "python",
   "pygments_lexer": "ipython3",
   "version": "3.8.0"
  },
  "orig_nbformat": 4,
  "vscode": {
   "interpreter": {
    "hash": "24d13602916ce501dab33551801634a98323f75b1378db411e4ca12af6dc15d7"
   }
  }
 },
 "nbformat": 4,
 "nbformat_minor": 2
}
